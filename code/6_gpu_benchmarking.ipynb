{
 "cells": [
  {
   "cell_type": "code",
   "execution_count": 1,
   "id": "275e0541",
   "metadata": {},
   "outputs": [],
   "source": [
    "#used an environment with directml\n",
    "# with the help of https://www.youtube.com/watch?v=gjVFH7NHB9s\n",
    "#ref to choose the env in jupyter notebook: https://towardsdatascience.com/get-your-conda-environment-to-show-in-jupyter-notebooks-the-easy-way-17010b76e874\n",
    "\n",
    "import tensorflow as tf\n",
    "from tensorflow import keras\n",
    "import matplotlib.pyplot as plt\n",
    "import numpy as np"
   ]
  },
  {
   "cell_type": "code",
   "execution_count": 2,
   "id": "388598d6",
   "metadata": {},
   "outputs": [
    {
     "data": {
      "text/plain": [
       "[PhysicalDevice(name='/physical_device:CPU:0', device_type='CPU'),\n",
       " PhysicalDevice(name='/physical_device:DML:0', device_type='DML'),\n",
       " PhysicalDevice(name='/physical_device:DML:1', device_type='DML')]"
      ]
     },
     "execution_count": 2,
     "metadata": {},
     "output_type": "execute_result"
    }
   ],
   "source": [
    "tf.config.experimental.list_physical_devices()"
   ]
  },
  {
   "cell_type": "code",
   "execution_count": 3,
   "id": "cd635d6f",
   "metadata": {},
   "outputs": [
    {
     "data": {
      "text/plain": [
       "True"
      ]
     },
     "execution_count": 3,
     "metadata": {},
     "output_type": "execute_result"
    }
   ],
   "source": [
    "tf.test.is_gpu_available()"
   ]
  },
  {
   "cell_type": "code",
   "execution_count": 4,
   "id": "e3e2f72b",
   "metadata": {},
   "outputs": [
    {
     "data": {
      "text/plain": [
       "[name: \"/device:CPU:0\"\n",
       " device_type: \"CPU\"\n",
       " memory_limit: 268435456\n",
       " locality {\n",
       " }\n",
       " incarnation: 11589009931138596765,\n",
       " name: \"/device:DML:0\"\n",
       " device_type: \"DML\"\n",
       " memory_limit: 3487677850\n",
       " locality {\n",
       " }\n",
       " incarnation: 6129135154559838390\n",
       " physical_device_desc: \"{\\\"name\\\": \\\"Intel(R) HD Graphics 620\\\", \\\"vendor_id\\\": 32902, \\\"device_id\\\": 22806, \\\"driver_version\\\": \\\"27.20.100.9664\\\"}\",\n",
       " name: \"/device:DML:1\"\n",
       " device_type: \"DML\"\n",
       " memory_limit: 1581625755\n",
       " locality {\n",
       " }\n",
       " incarnation: 4958651781742167074\n",
       " physical_device_desc: \"{\\\"name\\\": \\\"Radeon (TM) R5 M430\\\", \\\"vendor_id\\\": 4098, \\\"device_id\\\": 26208, \\\"driver_version\\\": \\\"27.20.20904.4000\\\"}\"]"
      ]
     },
     "execution_count": 4,
     "metadata": {},
     "output_type": "execute_result"
    }
   ],
   "source": [
    "from tensorflow.python.client import device_lib\n",
    "\n",
    "device_lib.list_local_devices()"
   ]
  },
  {
   "cell_type": "code",
   "execution_count": 5,
   "id": "64d73f96",
   "metadata": {},
   "outputs": [],
   "source": [
    "(x_train, y_train), (x_test, y_test) = keras.datasets.cifar10.load_data()"
   ]
  },
  {
   "cell_type": "code",
   "execution_count": 6,
   "id": "397b10e2",
   "metadata": {},
   "outputs": [
    {
     "data": {
      "text/plain": [
       "(50000, 32, 32, 3)"
      ]
     },
     "execution_count": 6,
     "metadata": {},
     "output_type": "execute_result"
    }
   ],
   "source": [
    "x_train.shape"
   ]
  },
  {
   "cell_type": "code",
   "execution_count": 7,
   "id": "a9c1c502",
   "metadata": {},
   "outputs": [
    {
     "data": {
      "text/plain": [
       "(32, 32, 3)"
      ]
     },
     "execution_count": 7,
     "metadata": {},
     "output_type": "execute_result"
    }
   ],
   "source": [
    "x_train[0].shape"
   ]
  },
  {
   "cell_type": "code",
   "execution_count": 8,
   "id": "980e5c50",
   "metadata": {},
   "outputs": [
    {
     "data": {
      "text/plain": [
       "array([6], dtype=uint8)"
      ]
     },
     "execution_count": 8,
     "metadata": {},
     "output_type": "execute_result"
    }
   ],
   "source": [
    "y_train[0]"
   ]
  },
  {
   "cell_type": "code",
   "execution_count": 9,
   "id": "07f4663e",
   "metadata": {},
   "outputs": [],
   "source": [
    "def plot_sample(index):\n",
    "    plt.figure(figsize=(10,1))\n",
    "    plt.imshow(x_train[index])"
   ]
  },
  {
   "cell_type": "code",
   "execution_count": 10,
   "id": "2b187cea",
   "metadata": {},
   "outputs": [
    {
     "data": {
      "image/png": "[encoded data removed]",
      "text/plain": [
       "<Figure size 720x72 with 1 Axes>"
      ]
     },
     "metadata": {
      "needs_background": "light"
     },
     "output_type": "display_data"
    }
   ],
   "source": [
    "plot_sample(0)"
   ]
  },
  {
   "cell_type": "code",
   "execution_count": 11,
   "id": "69a828a0",
   "metadata": {},
   "outputs": [
    {
     "data": {
      "image/png": "[encoded data removed]",
      "text/plain": [
       "<Figure size 720x72 with 1 Axes>"
      ]
     },
     "metadata": {
      "needs_background": "light"
     },
     "output_type": "display_data"
    }
   ],
   "source": [
    "plot_sample(3)"
   ]
  },
  {
   "cell_type": "code",
   "execution_count": 12,
   "id": "8337e484",
   "metadata": {},
   "outputs": [
    {
     "data": {
      "text/plain": [
       "array([4], dtype=uint8)"
      ]
     },
     "execution_count": 12,
     "metadata": {},
     "output_type": "execute_result"
    }
   ],
   "source": [
    "y_train[3]"
   ]
  },
  {
   "cell_type": "code",
   "execution_count": 13,
   "id": "c05ce802",
   "metadata": {},
   "outputs": [],
   "source": [
    "classes = ['airplane','automobile','bird','cat','deer','dog','frog','horse','ship','truck']"
   ]
  },
  {
   "cell_type": "code",
   "execution_count": 14,
   "id": "347aa9c9",
   "metadata": {
    "scrolled": true
   },
   "outputs": [
    {
     "data": {
      "text/plain": [
       "'deer'"
      ]
     },
     "execution_count": 14,
     "metadata": {},
     "output_type": "execute_result"
    }
   ],
   "source": [
    "classes[y_train[3][0]]"
   ]
  },
  {
   "cell_type": "code",
   "execution_count": 15,
   "id": "f3ff0d8b",
   "metadata": {},
   "outputs": [],
   "source": [
    "X_train_scaled = x_train/255\n",
    "X_test_scaled = x_test/255"
   ]
  },
  {
   "cell_type": "code",
   "execution_count": 16,
   "id": "3e85cf30",
   "metadata": {},
   "outputs": [
    {
     "data": {
      "text/plain": [
       "array([0., 0., 0., 0., 1., 0., 0., 0., 0., 0.], dtype=float32)"
      ]
     },
     "execution_count": 16,
     "metadata": {},
     "output_type": "execute_result"
    }
   ],
   "source": [
    "# do one hot encoding\n",
    "y_train_categorical = keras.utils.to_categorical(\n",
    "    y_train,num_classes=10,dtype='float32'\n",
    ")\n",
    "y_train_categorical[3]"
   ]
  },
  {
   "cell_type": "code",
   "execution_count": 17,
   "id": "4b69a064",
   "metadata": {},
   "outputs": [],
   "source": [
    "y_test_categorical = keras.utils.to_categorical(\n",
    "    y_test,num_classes=10,dtype='float32'\n",
    ")"
   ]
  },
  {
   "cell_type": "code",
   "execution_count": 26,
   "id": "8773857a",
   "metadata": {
    "scrolled": true
   },
   "outputs": [
    {
     "name": "stdout",
     "output_type": "stream",
     "text": [
      "Train on 50000 samples\n",
      "Epoch 1/50\n",
      "50000/50000 [==============================] - 110s 2ms/sample - loss: 1.8628 - acc: 0.3331\n",
      "Epoch 2/50\n",
      "50000/50000 [==============================] - 108s 2ms/sample - loss: 1.6579 - acc: 0.4125\n",
      "Epoch 3/50\n",
      "50000/50000 [==============================] - 108s 2ms/sample - loss: 1.5720 - acc: 0.4413s - loss: 1.5724 - acc:\n",
      "Epoch 4/50\n",
      "50000/50000 [==============================] - 109s 2ms/sample - loss: 1.5102 - acc: 0.4690\n",
      "Epoch 5/50\n",
      "50000/50000 [==============================] - 111s 2ms/sample - loss: 1.4602 - acc: 0.4840\n",
      "Epoch 6/50\n",
      "50000/50000 [==============================] - 111s 2ms/sample - loss: 1.4118 - acc: 0.5023s - loss: 1.4119  - ETA: 1s - loss: 1\n",
      "Epoch 7/50\n",
      "50000/50000 [==============================] - 121s 2ms/sample - loss: 1.3765 - acc: 0.5165\n",
      "Epoch 8/50\n",
      "50000/50000 [==============================] - 128s 3ms/sample - loss: 1.3399 - acc: 0.5271\n",
      "Epoch 9/50\n",
      "50000/50000 [==============================] - 122s 2ms/sample - loss: 1.3089 - acc: 0.5396\n",
      "Epoch 10/50\n",
      "50000/50000 [==============================] - 112s 2ms/sample - loss: 1.2781 - acc: 0.5515s - loss: 1.\n",
      "Epoch 11/50\n",
      "50000/50000 [==============================] - 112s 2ms/sample - loss: 1.2479 - acc: 0.5623\n",
      "Epoch 12/50\n",
      "50000/50000 [==============================] - 109s 2ms/sample - loss: 1.2173 - acc: 0.5710s - loss: 1.2163\n",
      "Epoch 13/50\n",
      "50000/50000 [==============================] - 110s 2ms/sample - loss: 1.1949 - acc: 0.5818\n",
      "Epoch 14/50\n",
      "50000/50000 [==============================] - ETA: 0s - loss: 1.1655 - acc: 0.594 - 110s 2ms/sample - loss: 1.1656 - acc: 0.5940\n",
      "Epoch 15/50\n",
      "50000/50000 [==============================] - 111s 2ms/sample - loss: 1.1409 - acc: 0.5995s - loss: 1.1404 -  - ETA: 0s - loss: 1.1406 - acc: \n",
      "Epoch 16/50\n",
      "50000/50000 [==============================] - 111s 2ms/sample - loss: 1.1124 - acc: 0.6110\n",
      "Epoch 17/50\n",
      "50000/50000 [==============================] - 113s 2ms/sample - loss: 1.0890 - acc: 0.6202\n",
      "Epoch 18/50\n",
      "50000/50000 [==============================] - 119s 2ms/sample - loss: 1.0607 - acc: 0.6301\n",
      "Epoch 19/50\n",
      "50000/50000 [==============================] - 145s 3ms/sample - loss: 1.0375 - acc: 0.6384\n",
      "Epoch 20/50\n",
      "50000/50000 [==============================] - 112s 2ms/sample - loss: 1.0129 - acc: 0.6485s - loss: 1.0128 - acc: 0.6 - \n",
      "Epoch 21/50\n",
      "50000/50000 [==============================] - 128s 3ms/sample - loss: 0.9867 - acc: 0.6567\n",
      "Epoch 22/50\n",
      "50000/50000 [==============================] - 144s 3ms/sample - loss: 0.9626 - acc: 0.6657s - loss: 0.9624 - acc:\n",
      "Epoch 23/50\n",
      "50000/50000 [==============================] - 142s 3ms/sample - loss: 0.9421 - acc: 0.6739\n",
      "Epoch 24/50\n",
      "50000/50000 [==============================] - 143s 3ms/sample - loss: 0.9122 - acc: 0.6817\n",
      "Epoch 25/50\n",
      "50000/50000 [==============================] - 143s 3ms/sample - loss: 0.8919 - acc: 0.6905\n",
      "Epoch 26/50\n",
      "50000/50000 [==============================] - 143s 3ms/sample - loss: 0.8654 - acc: 0.7011s - lo\n",
      "Epoch 27/50\n",
      "50000/50000 [==============================] - 130s 3ms/sample - loss: 0.8390 - acc: 0.7111\n",
      "Epoch 28/50\n",
      "50000/50000 [==============================] - 127s 3ms/sample - loss: 0.8131 - acc: 0.7174\n",
      "Epoch 29/50\n",
      "50000/50000 [==============================] - 130s 3ms/sample - loss: 0.7924 - acc: 0.7258\n",
      "Epoch 30/50\n",
      "50000/50000 [==============================] - 123s 2ms/sample - loss: 0.7651 - acc: 0.7398\n",
      "Epoch 31/50\n",
      "50000/50000 [==============================] - 123s 2ms/sample - loss: 0.7455 - acc: 0.7446\n",
      "Epoch 32/50\n",
      "50000/50000 [==============================] - 122s 2ms/sample - loss: 0.7212 - acc: 0.7521\n",
      "Epoch 33/50\n",
      "50000/50000 [==============================] - 108s 2ms/sample - loss: 0.6926 - acc: 0.7631s - loss: 0.6916 - acc: 0.76 - - ETA: 1s - loss: 0. - ETA: 0s - loss: 0.6925 - acc\n",
      "Epoch 34/50\n",
      "50000/50000 [==============================] - 109s 2ms/sample - loss: 0.6713 - acc: 0.7728\n",
      "Epoch 35/50\n",
      "50000/50000 [==============================] - 108s 2ms/sample - loss: 0.6459 - acc: 0.7818\n",
      "Epoch 36/50\n",
      "50000/50000 [==============================] - 142s 3ms/sample - loss: 0.6181 - acc: 0.7910A: 3s - l - ETA: 1s - loss: 0\n",
      "Epoch 37/50\n",
      "50000/50000 [==============================] - 145s 3ms/sample - loss: 0.5971 - acc: 0.8004\n",
      "Epoch 38/50\n",
      "50000/50000 [==============================] - 146s 3ms/sample - loss: 0.5794 - acc: 0.8042 ETA:\n",
      "Epoch 39/50\n",
      "50000/50000 [==============================] - 145s 3ms/sample - loss: 0.5530 - acc: 0.8164\n",
      "Epoch 40/50\n",
      "50000/50000 [==============================] - 145s 3ms/sample - loss: 0.5326 - acc: 0.8230\n",
      "Epoch 41/50\n",
      "50000/50000 [==============================] - 145s 3ms/sample - loss: 0.5121 - acc: 0.8271\n",
      "Epoch 42/50\n",
      "50000/50000 [==============================] - 145s 3ms/sample - loss: 0.4905 - acc: 0.8382\n",
      "Epoch 43/50\n",
      "50000/50000 [==============================] - 146s 3ms/sample - loss: 0.4700 - acc: 0.8448s \n",
      "Epoch 44/50\n",
      "50000/50000 [==============================] - 145s 3ms/sample - loss: 0.4462 - acc: 0.8546s - loss: 0.4473 - acc: 0.854 - ETA: 3s - loss: 0.4470 - ac - ETA: 2s - lo\n",
      "Epoch 45/50\n",
      "50000/50000 [==============================] - 145s 3ms/sample - loss: 0.4285 - acc: 0.8607\n",
      "Epoch 46/50\n",
      "50000/50000 [==============================] - 145s 3ms/sample - loss: 0.4087 - acc: 0.8677\n",
      "Epoch 47/50\n",
      "50000/50000 [==============================] - 148s 3ms/sample - loss: 0.3851 - acc: 0.8770\n",
      "Epoch 48/50\n",
      "50000/50000 [==============================] - 145s 3ms/sample - loss: 0.3656 - acc: 0.8833\n",
      "Epoch 49/50\n",
      "50000/50000 [==============================] - 145s 3ms/sample - loss: 0.3468 - acc: 0.8915\n",
      "Epoch 50/50\n",
      "50000/50000 [==============================] - 132s 3ms/sample - loss: 0.3323 - acc: 0.8971\n"
     ]
    },
    {
     "data": {
      "text/plain": [
       "<tensorflow.python.keras.callbacks.History at 0x1e29c06cf98>"
      ]
     },
     "execution_count": 26,
     "metadata": {},
     "output_type": "execute_result"
    }
   ],
   "source": [
    "#model building\n",
    "model = keras.Sequential([\n",
    "    keras.layers.Flatten(input_shape=(32,32,3)),\n",
    "    keras.layers.Dense(3000,activation='relu'),\n",
    "    keras.layers.Dense(1000,activation='relu'),\n",
    "    keras.layers.Dense(10,activation='sigmoid'),\n",
    "])\n",
    "\n",
    "model.compile(\n",
    "    optimizer='SGD',\n",
    "    loss='categorical_crossentropy', #if one hot encoded\n",
    "    metrics=['accuracy']\n",
    ")\n",
    "\n",
    "model.fit(X_train_scaled,y_train_categorical,epochs=50)"
   ]
  },
  {
   "cell_type": "code",
   "execution_count": 44,
   "id": "4b309b46",
   "metadata": {},
   "outputs": [
    {
     "data": {
      "text/plain": [
       "'ship'"
      ]
     },
     "execution_count": 44,
     "metadata": {},
     "output_type": "execute_result"
    }
   ],
   "source": [
    "classes[y_test[1][0]]"
   ]
  },
  {
   "cell_type": "code",
   "execution_count": 43,
   "id": "e41e3473",
   "metadata": {
    "scrolled": true
   },
   "outputs": [
    {
     "data": {
      "text/plain": [
       "'ship'"
      ]
     },
     "execution_count": 43,
     "metadata": {},
     "output_type": "execute_result"
    }
   ],
   "source": [
    "classes[np.argmax(model.predict(np.array([X_test_scaled[1]])))]"
   ]
  },
  {
   "cell_type": "code",
   "execution_count": 23,
   "id": "6ad4565e",
   "metadata": {},
   "outputs": [],
   "source": [
    "def get_model():\n",
    "    model = keras.Sequential([\n",
    "        keras.layers.Flatten(input_shape=(32,32,3)),\n",
    "        keras.layers.Dense(3000,activation='relu'),\n",
    "        keras.layers.Dense(1000,activation='relu'),\n",
    "        keras.layers.Dense(10,activation='sigmoid'),\n",
    "    ])\n",
    "\n",
    "    model.compile(\n",
    "        optimizer='SGD',\n",
    "        loss='categorical_crossentropy', #if one hot encoded\n",
    "        metrics=['accuracy']\n",
    "    )\n",
    "    \n",
    "    return model"
   ]
  },
  {
   "cell_type": "code",
   "execution_count": 24,
   "id": "5ae16a63",
   "metadata": {},
   "outputs": [
    {
     "name": "stdout",
     "output_type": "stream",
     "text": [
      "Train on 50000 samples\n",
      "50000/50000 [==============================] - 103s 2ms/sample - loss: 2.3050 - acc: 0.09990s - loss: 2.3052 - - ETA: 9s - loss: 2.3052 - acc: 0.0 - ETA: 9s - \n",
      "1min 44s ± 0 ns per loop (mean ± std. dev. of 1 run, 1 loop each)\n"
     ]
    }
   ],
   "source": [
    "%%timeit -n1 -r1\n",
    "with tf.device('/DML:0'):\n",
    "    cpu_model = get_model()\n",
    "    cpu_model.fit(X_train_scaled, y_train_categorical, epochs=1)"
   ]
  },
  {
   "cell_type": "code",
   "execution_count": 21,
   "id": "800630f5",
   "metadata": {},
   "outputs": [
    {
     "name": "stdout",
     "output_type": "stream",
     "text": [
      "Train on 50000 samples\n",
      "50000/50000 [==============================] - 104s 2ms/sample - loss: 1.8652 - acc: 0.3324\n",
      "1min 44s ± 0 ns per loop (mean ± std. dev. of 1 run, 1 loop each)\n"
     ]
    }
   ],
   "source": [
    "%%timeit -n1 -r1\n",
    "with tf.device('/CPU:0'):\n",
    "    cpu_model = get_model()\n",
    "    cpu_model.fit(X_train_scaled, y_train_categorical, epochs=1)"
   ]
  },
  {
   "cell_type": "code",
   "execution_count": 25,
   "id": "d1bc0440",
   "metadata": {},
   "outputs": [
    {
     "name": "stdout",
     "output_type": "stream",
     "text": [
      "Train on 50000 samples\n",
      "50000/50000 [==============================] - 148s 3ms/sample - loss: 2.3053 - acc: 0.1000s - loss: 2. - ETA:\n",
      "2min 29s ± 0 ns per loop (mean ± std. dev. of 1 run, 1 loop each)\n"
     ]
    }
   ],
   "source": [
    "%%timeit -n1 -r1\n",
    "with tf.device('/DML:1'):\n",
    "    cpu_model = get_model()\n",
    "    cpu_model.fit(X_train_scaled, y_train_categorical, epochs=1)"
   ]
  },
  {
   "attachments": {
    "image.png": {
     "image/png": "[encoded data removed]"
    }
   },
   "cell_type": "markdown",
   "id": "b44ac603",
   "metadata": {},
   "source": [
    "![image.png](attachment:image.png)"
   ]
  },
  {
   "cell_type": "code",
   "execution_count": 27,
   "id": "3dd20c0c",
   "metadata": {},
   "outputs": [
    {
     "name": "stdout",
     "output_type": "stream",
     "text": [
      "Downloading data from https://storage.googleapis.com/tensorflow/tf-keras-datasets/train-labels-idx1-ubyte.gz\n",
      "32768/29515 [=================================] - 0s 4us/step\n",
      "Downloading data from https://storage.googleapis.com/tensorflow/tf-keras-datasets/train-images-idx3-ubyte.gz\n",
      "26427392/26421880 [==============================] - 5s 0us/step\n",
      "Downloading data from https://storage.googleapis.com/tensorflow/tf-keras-datasets/t10k-labels-idx1-ubyte.gz\n",
      "8192/5148 [===============================================] - 0s 0us/step\n",
      "Downloading data from https://storage.googleapis.com/tensorflow/tf-keras-datasets/t10k-images-idx3-ubyte.gz\n",
      "4423680/4422102 [==============================] - 1s 0us/step\n"
     ]
    }
   ],
   "source": [
    "fashion_mnist = keras.datasets.fashion_mnist\n",
    "\n",
    "(train_images, train_labels), (test_images, test_labels) = fashion_mnist.load_data()\n",
    "class_names = ['T-shirt/top', 'Trouser', 'Pullover', 'Dress', 'Coat',\n",
    "               'Sandal', 'Shirt', 'Sneaker', 'Bag', 'Ankle boot']"
   ]
  },
  {
   "cell_type": "code",
   "execution_count": 28,
   "id": "955c0c7b",
   "metadata": {},
   "outputs": [
    {
     "data": {
      "text/plain": [
       "(60000, 28, 28)"
      ]
     },
     "execution_count": 28,
     "metadata": {},
     "output_type": "execute_result"
    }
   ],
   "source": [
    "train_images.shape"
   ]
  },
  {
   "cell_type": "code",
   "execution_count": 45,
   "id": "dfaa441b",
   "metadata": {},
   "outputs": [
    {
     "data": {
      "text/plain": [
       "<matplotlib.image.AxesImage at 0x1e29c29cba8>"
      ]
     },
     "execution_count": 45,
     "metadata": {},
     "output_type": "execute_result"
    },
    {
     "data": {
      "image/png": "[encoded data removed]",
      "text/plain": [
       "<Figure size 432x288 with 1 Axes>"
      ]
     },
     "metadata": {
      "needs_background": "light"
     },
     "output_type": "display_data"
    }
   ],
   "source": [
    "plt.imshow(train_images[0])"
   ]
  },
  {
   "cell_type": "code",
   "execution_count": 46,
   "id": "fb29589a",
   "metadata": {},
   "outputs": [
    {
     "data": {
      "text/plain": [
       "9"
      ]
     },
     "execution_count": 46,
     "metadata": {},
     "output_type": "execute_result"
    }
   ],
   "source": [
    "train_labels[0]"
   ]
  },
  {
   "cell_type": "code",
   "execution_count": 47,
   "id": "37b608a1",
   "metadata": {},
   "outputs": [
    {
     "data": {
      "text/plain": [
       "'Ankle boot'"
      ]
     },
     "execution_count": 47,
     "metadata": {},
     "output_type": "execute_result"
    }
   ],
   "source": [
    "class_names[train_labels[0]]"
   ]
  },
  {
   "cell_type": "code",
   "execution_count": 48,
   "id": "e5c83f94",
   "metadata": {},
   "outputs": [
    {
     "data": {
      "image/png": "[encoded data removed]",
      "text/plain": [
       "<Figure size 216x216 with 1 Axes>"
      ]
     },
     "metadata": {
      "needs_background": "light"
     },
     "output_type": "display_data"
    },
    {
     "data": {
      "image/png": "[encoded data removed]",
      "text/plain": [
       "<Figure size 432x288 with 1 Axes>"
      ]
     },
     "metadata": {
      "needs_background": "light"
     },
     "output_type": "display_data"
    },
    {
     "data": {
      "image/png": "[encoded data removed]",
      "text/plain": [
       "<Figure size 432x288 with 1 Axes>"
      ]
     },
     "metadata": {
      "needs_background": "light"
     },
     "output_type": "display_data"
    },
    {
     "data": {
      "image/png": "[encoded data removed]",
      "text/plain": [
       "<Figure size 432x288 with 1 Axes>"
      ]
     },
     "metadata": {
      "needs_background": "light"
     },
     "output_type": "display_data"
    },
    {
     "data": {
      "image/png": "[encoded data removed]",
      "text/plain": [
       "<Figure size 432x288 with 1 Axes>"
      ]
     },
     "metadata": {
      "needs_background": "light"
     },
     "output_type": "display_data"
    }
   ],
   "source": [
    "plt.figure(figsize=(3,3))\n",
    "for i in range(5):\n",
    "    plt.imshow(train_images[i])\n",
    "    plt.xlabel(class_names[train_labels[i]])\n",
    "    plt.show()"
   ]
  },
  {
   "cell_type": "code",
   "execution_count": 49,
   "id": "68c214b1",
   "metadata": {},
   "outputs": [],
   "source": [
    "train_images_scaled = train_images / 255.0\n",
    "test_images_scaled = test_images / 255.0"
   ]
  },
  {
   "cell_type": "code",
   "execution_count": 52,
   "id": "6ca7c682",
   "metadata": {},
   "outputs": [],
   "source": [
    "def get_model(hidden_layers=1):\n",
    "    layers = [\n",
    "        keras.layers.Flatten(input_shape=(28,28)),\n",
    "        keras.layers.Dense(hidden_layers,activation='relu'),\n",
    "        keras.layers.Dense(10,activation='sigmoid')\n",
    "    ]\n",
    "    # Your code goes here-----------START\n",
    "    # Create Flatten input layers\n",
    "    # Create hidden layers that are equal to hidden_layers argument in this function\n",
    "    # Create output \n",
    "    # Your code goes here-----------END\n",
    "    model = keras.Sequential(layers)\n",
    "    \n",
    "    model.compile(optimizer='adam',\n",
    "                  loss='sparse_categorical_crossentropy',\n",
    "                  metrics=['accuracy'])\n",
    "    \n",
    "    return model"
   ]
  },
  {
   "cell_type": "code",
   "execution_count": 53,
   "id": "cd67fe9d",
   "metadata": {
    "scrolled": true
   },
   "outputs": [
    {
     "name": "stdout",
     "output_type": "stream",
     "text": [
      "Train on 60000 samples\n",
      "Epoch 1/5\n",
      "60000/60000 [==============================] - 9s 150us/sample - loss: 2.0261 - acc: 0.1561\n",
      "Epoch 2/5\n",
      "60000/60000 [==============================] - 6s 108us/sample - loss: 1.8501 - acc: 0.2155\n",
      "Epoch 3/5\n",
      "60000/60000 [==============================] - 7s 110us/sample - loss: 1.8044 - acc: 0.2192\n",
      "Epoch 4/5\n",
      "60000/60000 [==============================] - 6s 108us/sample - loss: 1.7823 - acc: 0.2303\n",
      "Epoch 5/5\n",
      "60000/60000 [==============================] - 7s 112us/sample - loss: 1.7682 - acc: 0.2470\n"
     ]
    },
    {
     "data": {
      "text/plain": [
       "<tensorflow.python.keras.callbacks.History at 0x1e29c204518>"
      ]
     },
     "execution_count": 53,
     "metadata": {},
     "output_type": "execute_result"
    }
   ],
   "source": [
    "model = get_model(1)\n",
    "model.fit(train_images_scaled, train_labels, epochs=5)"
   ]
  },
  {
   "cell_type": "code",
   "execution_count": 56,
   "id": "063aecd7",
   "metadata": {},
   "outputs": [
    {
     "data": {
      "text/plain": [
       "1"
      ]
     },
     "execution_count": 56,
     "metadata": {},
     "output_type": "execute_result"
    }
   ],
   "source": [
    "np.argmax(model.predict(test_images_scaled)[2])"
   ]
  },
  {
   "cell_type": "code",
   "execution_count": 55,
   "id": "c6decb09",
   "metadata": {},
   "outputs": [
    {
     "data": {
      "text/plain": [
       "1"
      ]
     },
     "execution_count": 55,
     "metadata": {},
     "output_type": "execute_result"
    }
   ],
   "source": [
    "test_labels[2]"
   ]
  },
  {
   "cell_type": "code",
   "execution_count": 57,
   "id": "ae8c2f00",
   "metadata": {},
   "outputs": [
    {
     "data": {
      "text/plain": [
       "[PhysicalDevice(name='/physical_device:CPU:0', device_type='CPU'),\n",
       " PhysicalDevice(name='/physical_device:DML:0', device_type='DML'),\n",
       " PhysicalDevice(name='/physical_device:DML:1', device_type='DML')]"
      ]
     },
     "execution_count": 57,
     "metadata": {},
     "output_type": "execute_result"
    }
   ],
   "source": [
    "tf.config.experimental.list_physical_devices() "
   ]
  },
  {
   "cell_type": "markdown",
   "id": "f8078e7a",
   "metadata": {},
   "source": [
    "5 Epochs performance comparison for 1 hidden layer"
   ]
  },
  {
   "cell_type": "code",
   "execution_count": 58,
   "id": "243bf694",
   "metadata": {},
   "outputs": [
    {
     "name": "stdout",
     "output_type": "stream",
     "text": [
      "Train on 60000 samples\n",
      "Epoch 1/5\n",
      "60000/60000 [==============================] - 2s 38us/sample - loss: 1.9082 - acc: 0.2306\n",
      "Epoch 2/5\n",
      "60000/60000 [==============================] - 2s 40us/sample - loss: 1.6805 - acc: 0.3092\n",
      "Epoch 3/5\n",
      "60000/60000 [==============================] - 2s 35us/sample - loss: 1.5632 - acc: 0.3745\n",
      "Epoch 4/5\n",
      "60000/60000 [==============================] - 2s 36us/sample - loss: 1.4933 - acc: 0.3985\n",
      "Epoch 5/5\n",
      "60000/60000 [==============================] - 2s 35us/sample - loss: 1.4493 - acc: 0.4060\n",
      "11.5 s ± 0 ns per loop (mean ± std. dev. of 1 run, 1 loop each)\n"
     ]
    }
   ],
   "source": [
    "%%timeit -n1 -r1\n",
    "with tf.device('/CPU:0'):\n",
    "    cpu_model = get_model(1)\n",
    "    cpu_model.fit(train_images_scaled, train_labels, epochs=5)"
   ]
  },
  {
   "cell_type": "code",
   "execution_count": 59,
   "id": "128df1bd",
   "metadata": {},
   "outputs": [
    {
     "name": "stdout",
     "output_type": "stream",
     "text": [
      "Train on 60000 samples\n",
      "Epoch 1/5\n",
      "60000/60000 [==============================] - 7s 117us/sample - loss: 1.9268 - acc: 0.2043\n",
      "Epoch 2/5\n",
      "60000/60000 [==============================] - 7s 114us/sample - loss: 1.7043 - acc: 0.2268\n",
      "Epoch 3/5\n",
      "60000/60000 [==============================] - 7s 116us/sample - loss: 1.6001 - acc: 0.2763\n",
      "Epoch 4/5\n",
      "60000/60000 [==============================] - 7s 112us/sample - loss: 1.5426 - acc: 0.2884\n",
      "Epoch 5/5\n",
      "60000/60000 [==============================] - 7s 113us/sample - loss: 1.5036 - acc: 0.2951\n",
      "34.8 s ± 0 ns per loop (mean ± std. dev. of 1 run, 1 loop each)\n"
     ]
    }
   ],
   "source": [
    "%%timeit -n1 -r1\n",
    "with tf.device('/DML:0'):\n",
    "    cpu_model = get_model(1)\n",
    "    cpu_model.fit(train_images_scaled, train_labels, epochs=5)"
   ]
  },
  {
   "cell_type": "code",
   "execution_count": 60,
   "id": "7feaae5e",
   "metadata": {},
   "outputs": [
    {
     "name": "stdout",
     "output_type": "stream",
     "text": [
      "Train on 60000 samples\n",
      "Epoch 1/5\n",
      "60000/60000 [==============================] - 6s 94us/sample - loss: 1.9546 - acc: 0.2045\n",
      "Epoch 2/5\n",
      "60000/60000 [==============================] - 5s 89us/sample - loss: 1.7216 - acc: 0.2928\n",
      "Epoch 3/5\n",
      "60000/60000 [==============================] - 6s 93us/sample - loss: 1.6140 - acc: 0.3615\n",
      "Epoch 4/5\n",
      "60000/60000 [==============================] - 5s 91us/sample - loss: 1.5558 - acc: 0.3714\n",
      "Epoch 5/5\n",
      "60000/60000 [==============================] - 5s 86us/sample - loss: 1.5205 - acc: 0.3772\n",
      "27.6 s ± 0 ns per loop (mean ± std. dev. of 1 run, 1 loop each)\n"
     ]
    }
   ],
   "source": [
    "%%timeit -n1 -r1\n",
    "with tf.device('/DML:1'):\n",
    "    cpu_model = get_model(1)\n",
    "    cpu_model.fit(train_images_scaled, train_labels, epochs=5)"
   ]
  },
  {
   "cell_type": "markdown",
   "id": "14917fc7",
   "metadata": {},
   "source": [
    "5 Epocs performance comparison with 5 hidden layers"
   ]
  },
  {
   "cell_type": "code",
   "execution_count": 61,
   "id": "613bdc61",
   "metadata": {},
   "outputs": [
    {
     "name": "stdout",
     "output_type": "stream",
     "text": [
      "Train on 60000 samples\n",
      "Epoch 1/5\n",
      "60000/60000 [==============================] - 3s 42us/sample - loss: 1.0238 - acc: 0.6050\n",
      "Epoch 2/5\n",
      "60000/60000 [==============================] - 2s 41us/sample - loss: 0.6844 - acc: 0.7768\n",
      "Epoch 3/5\n",
      "60000/60000 [==============================] - 2s 41us/sample - loss: 0.6238 - acc: 0.7948\n",
      "Epoch 4/5\n",
      "60000/60000 [==============================] - 2s 41us/sample - loss: 0.5928 - acc: 0.8037\n",
      "Epoch 5/5\n",
      "60000/60000 [==============================] - 3s 47us/sample - loss: 0.5737 - acc: 0.8083\n",
      "13.2 s ± 0 ns per loop (mean ± std. dev. of 1 run, 1 loop each)\n"
     ]
    }
   ],
   "source": [
    "%%timeit -n1 -r1\n",
    "with tf.device('/CPU:0'):\n",
    "    cpu_model = get_model(5)\n",
    "    cpu_model.fit(train_images_scaled, train_labels, epochs=5)"
   ]
  },
  {
   "cell_type": "code",
   "execution_count": 62,
   "id": "a54a2b7d",
   "metadata": {},
   "outputs": [
    {
     "name": "stdout",
     "output_type": "stream",
     "text": [
      "Train on 60000 samples\n",
      "Epoch 1/5\n",
      "60000/60000 [==============================] - 10s 167us/sample - loss: 0.8139 - acc: 0.7135\n",
      "Epoch 2/5\n",
      "60000/60000 [==============================] - 8s 133us/sample - loss: 0.5806 - acc: 0.8010\n",
      "Epoch 3/5\n",
      "60000/60000 [==============================] - 7s 119us/sample - loss: 0.5464 - acc: 0.8145s - los\n",
      "Epoch 4/5\n",
      "60000/60000 [==============================] - 7s 118us/sample - loss: 0.5262 - acc: 0.8201\n",
      "Epoch 5/5\n",
      "60000/60000 [==============================] - 8s 129us/sample - loss: 0.5115 - acc: 0.8247\n",
      "40.5 s ± 0 ns per loop (mean ± std. dev. of 1 run, 1 loop each)\n"
     ]
    }
   ],
   "source": [
    "%%timeit -n1 -r1\n",
    "with tf.device('/DML:0'):\n",
    "    cpu_model = get_model(5)\n",
    "    cpu_model.fit(train_images_scaled, train_labels, epochs=5)"
   ]
  },
  {
   "cell_type": "code",
   "execution_count": 63,
   "id": "34875a2a",
   "metadata": {},
   "outputs": [
    {
     "name": "stdout",
     "output_type": "stream",
     "text": [
      "Train on 60000 samples\n",
      "Epoch 1/5\n",
      "60000/60000 [==============================] - 6s 95us/sample - loss: 0.9885 - acc: 0.6005\n",
      "Epoch 2/5\n",
      "60000/60000 [==============================] - 6s 93us/sample - loss: 0.6275 - acc: 0.7890\n",
      "Epoch 3/5\n",
      "60000/60000 [==============================] - 6s 95us/sample - loss: 0.5740 - acc: 0.8067\n",
      "Epoch 4/5\n",
      "60000/60000 [==============================] - 5s 91us/sample - loss: 0.5478 - acc: 0.8147\n",
      "Epoch 5/5\n",
      "60000/60000 [==============================] - 5s 91us/sample - loss: 0.5264 - acc: 0.82050s - loss: 0.5266\n",
      "28.5 s ± 0 ns per loop (mean ± std. dev. of 1 run, 1 loop each)\n"
     ]
    }
   ],
   "source": [
    "%%timeit -n1 -r1\n",
    "with tf.device('/DML:1'):\n",
    "    cpu_model = get_model(5)\n",
    "    cpu_model.fit(train_images_scaled, train_labels, epochs=5)"
   ]
  },
  {
   "cell_type": "code",
   "execution_count": null,
   "id": "c7c97d0b",
   "metadata": {},
   "outputs": [],
   "source": []
  }
 ],
 "metadata": {
  "kernelspec": {
   "display_name": "Python [conda env:tfradeon]",
   "language": "python",
   "name": "conda-env-tfradeon-py"
  },
  "language_info": {
   "codemirror_mode": {
    "name": "ipython",
    "version": 3
   },
   "file_extension": ".py",
   "mimetype": "text/x-python",
   "name": "python",
   "nbconvert_exporter": "python",
   "pygments_lexer": "ipython3",
   "version": "3.6.13"
  }
 },
 "nbformat": 4,
 "nbformat_minor": 5
}
